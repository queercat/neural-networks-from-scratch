{
 "cells": [
  {
   "cell_type": "code",
   "execution_count": 18,
   "metadata": {},
   "outputs": [
    {
     "name": "stdout",
     "output_type": "stream",
     "text": [
      "[[ 0.148296   -0.08397602]\n",
      " [ 0.14100315 -0.01340469]\n",
      " [ 0.20124979 -0.07290616]]\n"
     ]
    }
   ],
   "source": [
    "import numpy as np\n",
    "\n",
    "np.random.seed(0)\n",
    "\n",
    "x = [\n",
    "  [1, 2, 3, 2.5],\n",
    "  [2.0, 5.0, -1.0, 2.0],\n",
    "  [-1.5, 2.7, 3.3, -0.8]\n",
    "]\n",
    "\n",
    "class LayerDense:\n",
    "  def __init__(self, num_inputs, num_neurons):\n",
    "    self.weights = .1 * np.random.randn(num_inputs, num_neurons)\n",
    "    self.biases = np.zeros((1, num_neurons))\n",
    "  def forward(self, inputs):\n",
    "    self.output = np.dot(inputs, self.weights) + self.biases\n",
    "\n",
    "layer1 = LayerDense(4, 5)\n",
    "layer2 = LayerDense(5, 2)\n",
    "\n",
    "layer1.forward(x)\n",
    "layer2.forward(layer1.output)\n",
    "\n",
    "print(layer2.output)"
   ]
  }
 ],
 "metadata": {
  "kernelspec": {
   "display_name": "Python 3",
   "language": "python",
   "name": "python3"
  },
  "language_info": {
   "codemirror_mode": {
    "name": "ipython",
    "version": 3
   },
   "file_extension": ".py",
   "mimetype": "text/x-python",
   "name": "python",
   "nbconvert_exporter": "python",
   "pygments_lexer": "ipython3",
   "version": "3.12.4"
  }
 },
 "nbformat": 4,
 "nbformat_minor": 2
}
