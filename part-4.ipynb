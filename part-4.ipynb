{
 "cells": [
  {
   "cell_type": "code",
   "execution_count": null,
   "metadata": {},
   "outputs": [
    {
     "name": "stdout",
     "output_type": "stream",
     "text": [
      "[[ 0.10758131  1.03983522  0.24462411  0.31821498  0.18851053]\n",
      " [-0.08349796  0.70846411  0.00293357  0.44701525  0.36360538]\n",
      " [-0.50763245  0.55688422  0.07987797 -0.34889573  0.04553042]]\n"
     ]
    }
   ],
   "source": [
    "import numpy as np\n",
    "\n",
    "np.random.seed(0)\n",
    "\n",
    "x = [\n",
    "  [1, 2, 3, 2.5],\n",
    "  [2.0, 5.0, -1.0, 2.0],\n",
    "  [-1.5, 2.7, 3.3, -0.8]\n",
    "]\n",
    "\n",
    "class LayerDense:\n",
    "  def __init__(self, num_inputs, num_neurons):\n",
    "    self.weights = .1 * np.random.randn(num_inputs, num_neurons)\n",
    "    self.biases = np.zeros((1, num_neurons))\n",
    "  def forward(self, inputs):\n",
    "    self.output = np.dot(inputs, self.weights) + self.biases\n",
    "\n",
    "layer1 = LayerDense(4, 5)\n",
    "layer2 = LayerDense(5, 2)\n",
    "\n",
    "layer1.forward(x)\n",
    "layer2.forward(layer1.output)\n",
    "\n",
    "print(layer2.output)"
   ]
  }
 ],
 "metadata": {
  "kernelspec": {
   "display_name": "Python 3",
   "language": "python",
   "name": "python3"
  },
  "language_info": {
   "codemirror_mode": {
    "name": "ipython",
    "version": 3
   },
   "file_extension": ".py",
   "mimetype": "text/x-python",
   "name": "python",
   "nbconvert_exporter": "python",
   "pygments_lexer": "ipython3",
   "version": "3.12.4"
  }
 },
 "nbformat": 4,
 "nbformat_minor": 2
}
