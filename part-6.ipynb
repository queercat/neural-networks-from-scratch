{
 "cells": [
  {
   "cell_type": "code",
   "execution_count": 19,
   "metadata": {},
   "outputs": [
    {
     "name": "stdout",
     "output_type": "stream",
     "text": [
      "[[0.33333334 0.33333334 0.33333334]\n",
      " [0.33331734 0.3333183  0.33336434]\n",
      " [0.3332888  0.33329153 0.33341965]\n",
      " [0.33325943 0.33326396 0.33347666]\n",
      " [0.33323312 0.33323926 0.33352762]]\n"
     ]
    }
   ],
   "source": [
    "import nnfs.datasets\n",
    "import numpy as np\n",
    "import nnfs\n",
    "\n",
    "nnfs.init()\n",
    "\n",
    "class LayerDense:\n",
    "  def __init__(self, num_inputs, num_neurons):\n",
    "    self.weights = .1 * np.random.randn(num_inputs, num_neurons)\n",
    "    self.biases = np.zeros((1, num_neurons))\n",
    "  def forward(self, inputs):\n",
    "    self.output = np.dot(inputs, self.weights) + self.biases\n",
    "\n",
    "class ActivationReLU:\n",
    "  def forward(self, inputs):  \n",
    "    self.output = np.maximum(0, inputs)\n",
    "\n",
    "class ActivationSoftmax:\n",
    "  def __init__(self):\n",
    "    self.output = None\n",
    "\n",
    "  def forward(self, inputs):\n",
    "    exponentiated = np.exp(inputs - np.max(inputs, axis=1, keepdims=True))\n",
    "    probabilities = exponentiated / np.sum(exponentiated, axis=1, keepdims=True)\n",
    "\n",
    "    self.output = probabilities\n",
    "\n",
    "x, y = nnfs.datasets.spiral_data(samples = 100, classes = 3)\n",
    "dense1 = LayerDense(2, 3)\n",
    "activation1 = ActivationReLU()\n",
    "dense2 = LayerDense(3, 3)\n",
    "activation2 = ActivationSoftmax()\n",
    "\n",
    "dense1.forward(x)\n",
    "activation1.forward(dense1.output)\n",
    "dense2.forward(activation1.output)\n",
    "activation2.forward(dense2.output)\n",
    "\n",
    "print(activation2.output[:5])"
   ]
  }
 ],
 "metadata": {
  "kernelspec": {
   "display_name": "Python 3",
   "language": "python",
   "name": "python3"
  },
  "language_info": {
   "codemirror_mode": {
    "name": "ipython",
    "version": 3
   },
   "file_extension": ".py",
   "mimetype": "text/x-python",
   "name": "python",
   "nbconvert_exporter": "python",
   "pygments_lexer": "ipython3",
   "version": "3.12.4"
  }
 },
 "nbformat": 4,
 "nbformat_minor": 2
}
