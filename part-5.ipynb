{
 "cells": [
  {
   "cell_type": "code",
   "execution_count": null,
   "metadata": {},
   "outputs": [
    {
     "name": "stdout",
     "output_type": "stream",
     "text": [
      "[[ 0.0000000e+00  0.0000000e+00  0.0000000e+00  0.0000000e+00\n",
      "   0.0000000e+00]\n",
      " [-1.6704046e-03 -9.5173855e-05 -3.8254017e-04  4.6632026e-04\n",
      "   9.7073214e-05]\n",
      " [-2.9919860e-03 -3.4620197e-04  2.6788190e-04  1.2796856e-03\n",
      "   6.7180151e-04]\n",
      " [-1.8258524e-03 -7.2835456e-04  2.9679232e-03  2.0886525e-03\n",
      "   1.8751227e-03]\n",
      " [-2.9596870e-03 -9.6375053e-04  3.6345762e-03  2.8371245e-03\n",
      "   2.4249570e-03]]\n",
      "[[0.0000000e+00 0.0000000e+00 0.0000000e+00 0.0000000e+00 0.0000000e+00]\n",
      " [0.0000000e+00 0.0000000e+00 0.0000000e+00 4.6632026e-04 9.7073214e-05]\n",
      " [0.0000000e+00 0.0000000e+00 2.6788190e-04 1.2796856e-03 6.7180151e-04]\n",
      " [0.0000000e+00 0.0000000e+00 2.9679232e-03 2.0886525e-03 1.8751227e-03]\n",
      " [0.0000000e+00 0.0000000e+00 3.6345762e-03 2.8371245e-03 2.4249570e-03]]\n"
     ]
    }
   ],
   "source": [
    "import numpy as np\n",
    "import nnfs\n",
    "\n",
    "nnfs.init()\n",
    "\n",
    "from nnfs.datasets import spiral_data\n",
    "\n",
    "class LayerDense:\n",
    "  def __init__(self, num_inputs, num_neurons):\n",
    "    self.weights = .1 * np.random.randn(num_inputs, num_neurons)\n",
    "    self.biases = np.zeros((1, num_neurons))\n",
    "  def forward(self, inputs):\n",
    "    self.output = np.dot(inputs, self.weights) + self.biases\n",
    "\n",
    "class ActivationReLU:\n",
    "  def forward(self, inputs):  \n",
    "    self.output = np.maximum(0, inputs)\n",
    "\n",
    "x, y = spiral_data(samples=100, classes=2)\n",
    "\n",
    "layer1 = LayerDense(2, 5)\n",
    "activation1 = ActivationReLU()\n",
    "\n",
    "layer1.forward(x)\n",
    "activation1.forward(layer1.output)\n"
   ]
  }
 ],
 "metadata": {
  "kernelspec": {
   "display_name": "Python 3",
   "language": "python",
   "name": "python3"
  },
  "language_info": {
   "codemirror_mode": {
    "name": "ipython",
    "version": 3
   },
   "file_extension": ".py",
   "mimetype": "text/x-python",
   "name": "python",
   "nbconvert_exporter": "python",
   "pygments_lexer": "ipython3",
   "version": "3.12.4"
  }
 },
 "nbformat": 4,
 "nbformat_minor": 2
}
