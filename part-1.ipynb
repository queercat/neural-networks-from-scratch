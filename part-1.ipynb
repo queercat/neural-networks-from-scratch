{
 "cells": [
  {
   "cell_type": "code",
   "execution_count": null,
   "metadata": {},
   "outputs": [
    {
     "name": "stdout",
     "output_type": "stream",
     "text": [
      "35.7\n"
     ]
    }
   ],
   "source": [
    "# model a simple neuron with 3 inputs\n",
    "\n",
    "import numpy as np\n",
    "\n",
    "inputs = np.array([1.2, 5.1, 2.1])\n",
    "weights = np.array([3.1, 2.1, 8.7])\n",
    "bias = 3\n",
    "\n",
    "output = sum(inputs * weights) + bias\n",
    "\n",
    "print(output)\n"
   ]
  }
 ],
 "metadata": {
  "kernelspec": {
   "display_name": "Python 3",
   "language": "python",
   "name": "python3"
  },
  "language_info": {
   "codemirror_mode": {
    "name": "ipython",
    "version": 3
   },
   "file_extension": ".py",
   "mimetype": "text/x-python",
   "name": "python",
   "nbconvert_exporter": "python",
   "pygments_lexer": "ipython3",
   "version": "3.12.4"
  }
 },
 "nbformat": 4,
 "nbformat_minor": 2
}
